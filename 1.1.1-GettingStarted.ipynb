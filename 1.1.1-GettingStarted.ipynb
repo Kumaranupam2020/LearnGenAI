{
 "cells": [
  {
   "cell_type": "markdown",
   "metadata": {},
   "source": [
    "#### Getting started With Langchain And Open AI\n",
    "\n",
    "In this quickstart we'll see how to:\n",
    "\n",
    "- Get setup with LangChain, LangSmith and LangServe\n",
    "- Use the most basic and common components of LangChain: prompt templates, models, and output parsers.\n",
    "- Build a simple application with LangChain\n",
    "- Trace your application with LangSmith\n",
    "- Serve your application with LangServe"
   ]
  },
  {
   "cell_type": "code",
   "execution_count": 2,
   "metadata": {},
   "outputs": [
    {
     "name": "stdout",
     "output_type": "stream",
     "text": [
      "Collecting python-dotenv\n",
      "  Using cached python_dotenv-1.0.1-py3-none-any.whl.metadata (23 kB)\n",
      "Using cached python_dotenv-1.0.1-py3-none-any.whl (19 kB)\n",
      "Installing collected packages: python-dotenv\n",
      "Successfully installed python-dotenv-1.0.1\n",
      "Note: you may need to restart the kernel to use updated packages.\n"
     ]
    }
   ],
   "source": [
    "pip install python-dotenv\n"
   ]
  },
  {
   "cell_type": "code",
   "execution_count": 3,
   "metadata": {},
   "outputs": [],
   "source": [
    "import os\n",
    "from dotenv import load_dotenv\n",
    "load_dotenv()\n",
    "\n",
    "os.environ['OPENAI_API_KEY']=os.getenv(\"OPENAI_API_KEY\")\n",
    "## Langsmith Tracking\n",
    "os.environ[\"LANGCHAIN_API_KEY\"]=os.getenv(\"LANGCHAIN_API_KEY\")\n",
    "os.environ[\"LANGCHAIN_TRACING_V2\"]=\"true\"\n",
    "os.environ[\"LANGCHAIN_PROJECT\"]=os.getenv(\"LANGCHAIN_PROJECT\")"
   ]
  },
  {
   "cell_type": "code",
   "execution_count": null,
   "metadata": {},
   "outputs": [],
   "source": []
  },
  {
   "cell_type": "code",
   "execution_count": 4,
   "metadata": {},
   "outputs": [
    {
     "name": "stdout",
     "output_type": "stream",
     "text": [
      "Note: you may need to restart the kernel to use updated packages.\n"
     ]
    }
   ],
   "source": [
    "%pip install -qU langchain-ollama"
   ]
  },
  {
   "cell_type": "code",
   "execution_count": 1,
   "metadata": {},
   "outputs": [],
   "source": [
    "#from langchain_openai import ChatOpenAI\n",
    "#llm=ChatOpenAI(model=\"gpt-4o\")\n",
    "#print(llm)\n",
    "\n",
    "from langchain_ollama import ChatOllama\n",
    "\n",
    "llm = ChatOllama(\n",
    "    model=\"llama3.1\",\n",
    "    temperature=0,\n",
    "    # other params...\n",
    ")"
   ]
  },
  {
   "cell_type": "code",
   "execution_count": 4,
   "metadata": {},
   "outputs": [],
   "source": [
    "## Input and get response form LLM\n",
    "\n",
    "result=llm.invoke(\"Write a Poetry on Tree using maximum 50 words\")"
   ]
  },
  {
   "cell_type": "code",
   "execution_count": 5,
   "metadata": {},
   "outputs": [
    {
     "name": "stdout",
     "output_type": "stream",
     "text": [
      "content='Tall and proud, the tree stands high\\nA symbol of strength, against the sky\\nIts branches sway, its leaves rustle free\\nA haven for birds, a home for me\\n\\nIts trunk is sturdy, its roots run deep\\nA guardian of secrets, in eternal sleep.' response_metadata={'model': 'llama3.1', 'created_at': '2024-08-24T15:09:30.254302Z', 'message': {'role': 'assistant', 'content': ''}, 'done_reason': 'stop', 'done': True, 'total_duration': 25514110200, 'load_duration': 47407600, 'prompt_eval_count': 21, 'prompt_eval_duration': 3696860000, 'eval_count': 59, 'eval_duration': 21767731000} id='run-34cb4cd7-f690-4b3b-b381-ee962273ec5c-0' usage_metadata={'input_tokens': 21, 'output_tokens': 59, 'total_tokens': 80}\n"
     ]
    }
   ],
   "source": [
    "print(result)"
   ]
  },
  {
   "cell_type": "markdown",
   "metadata": {},
   "source": [
    "'Tall and proud, the tree stands high\\n\n",
    "A symbol of strength, against the sky\\n\n",
    "Its branches sway, its leaves rustle free\\n\n",
    "A haven for birds, a home for me\\n\\n\n",
    "\n",
    "Its trunk is sturdy, its roots run deep\\n\n",
    "A guardian of secrets, in eternal sleep.\n",
    "\n",
    "' response_metadata={'model': 'llama3.1', 'created_at': '2024-08-24T15:09:30.254302Z', 'message': {'role': 'assistant', 'content': ''}, 'done_reason': 'stop', 'done': True, 'total_duration': 25514110200, 'load_duration': 47407600, 'prompt_eval_count': 21, 'prompt_eval_duration': 3696860000, 'eval_count': 59, 'eval_duration': 21767731000} id='run-34cb4cd7-f690-4b3b-b381-ee962273ec5c-0' usage_metadata={'input_tokens': 21, 'output_tokens': 59, 'total_tokens': 80}"
   ]
  },
  {
   "cell_type": "code",
   "execution_count": 6,
   "metadata": {},
   "outputs": [
    {
     "data": {
      "text/plain": [
       "ChatPromptTemplate(input_variables=['input'], messages=[SystemMessagePromptTemplate(prompt=PromptTemplate(input_variables=[], template='You are an expert AI Engineer. Provide me answers based on the questions')), HumanMessagePromptTemplate(prompt=PromptTemplate(input_variables=['input'], template='{input}'))])"
      ]
     },
     "execution_count": 6,
     "metadata": {},
     "output_type": "execute_result"
    }
   ],
   "source": [
    "### Chatprompt Template\n",
    "from langchain_core.prompts import ChatPromptTemplate\n",
    "\n",
    "prompt=ChatPromptTemplate.from_messages(\n",
    "    [\n",
    "        (\"system\",\"You are an expert AI Engineer. Provide me answers based on the questions\"),\n",
    "        (\"user\",\"{input}\")\n",
    "    ]\n",
    "\n",
    ")\n",
    "prompt"
   ]
  },
  {
   "cell_type": "code",
   "execution_count": 7,
   "metadata": {},
   "outputs": [
    {
     "name": "stdout",
     "output_type": "stream",
     "text": [
      "content=\"SAP HANA is a high-performance, in-memory relational database management system (RDBMS) developed by SAP SE. It's designed to handle large volumes of data and provide fast query performance, making it an ideal choice for business intelligence, analytics, and real-time applications.\\n\\nHere are some key features and benefits of SAP HANA:\\n\\n**Key Features:**\\n\\n1. **In-Memory Technology**: SAP HANA stores data in RAM (Random Access Memory), which provides faster access times compared to traditional disk-based storage.\\n2. **Column-Based Storage**: Data is stored in a column-based format, allowing for efficient querying and aggregation operations.\\n3. **ACID Compliance**: SAP HANA supports Atomicity, Consistency, Isolation, and Durability (ACID) properties, ensuring data integrity and consistency.\\n4. **High-Performance Query Engine**: The query engine uses advanced algorithms to optimize queries and provide fast results.\\n5. **Integrated Data Processing**: SAP HANA can process large volumes of data in real-time, making it suitable for applications like business intelligence, analytics, and IoT.\\n\\n**Benefits:**\\n\\n1. **Faster Performance**: SAP HANA's in-memory technology provides faster query performance compared to traditional disk-based storage systems.\\n2. **Improved Scalability**: The system can handle large volumes of data and scale horizontally (add more nodes) or vertically (increase node capacity).\\n3. **Reduced Latency**: Real-time processing capabilities enable fast decision-making, reducing latency and improving business outcomes.\\n4. **Integrated Analytics**: SAP HANA provides a unified platform for analytics, reporting, and business intelligence, making it easier to gain insights from data.\\n5. **Cost-Effective**: By reducing the need for disk storage and minimizing the use of external databases, SAP HANA can help organizations save costs.\\n\\n**Use Cases:**\\n\\n1. **Business Intelligence**: SAP HANA is ideal for business intelligence applications, such as reporting, analytics, and data visualization.\\n2. **Real-Time Analytics**: The system's high-performance capabilities make it suitable for real-time analytics, IoT, and other applications that require fast processing of large volumes of data.\\n3. **Predictive Maintenance**: SAP HANA can be used to analyze sensor data from machines and predict maintenance needs, reducing downtime and improving overall equipment effectiveness (OEE).\\n4. **Supply Chain Optimization**: The system's advanced analytics capabilities enable organizations to optimize supply chain operations, improve forecasting, and reduce inventory costs.\\n\\n**System Requirements:**\\n\\n1. **Hardware**: SAP HANA requires a server with sufficient RAM (at least 64 GB) and storage capacity.\\n2. **Operating System**: The system supports various operating systems, including Windows, Linux, and Solaris.\\n3. **Database Management**: SAP HANA uses its own database management system, which is designed to work seamlessly with the in-memory technology.\\n\\nOverall, SAP HANA is a powerful platform for handling large volumes of data and providing fast query performance. Its integrated analytics capabilities make it an ideal choice for business intelligence, real-time analytics, and other applications that require fast processing of data.\" response_metadata={'model': 'llama3.1', 'created_at': '2024-08-24T15:30:24.9792428Z', 'message': {'role': 'assistant', 'content': ''}, 'done_reason': 'stop', 'done': True, 'total_duration': 316690791600, 'load_duration': 8480324300, 'prompt_eval_count': 36, 'prompt_eval_duration': 8125857000, 'eval_count': 627, 'eval_duration': 300077833000} id='run-90380038-6553-411b-b26b-a331e77b6952-0' usage_metadata={'input_tokens': 36, 'output_tokens': 627, 'total_tokens': 663}\n"
     ]
    }
   ],
   "source": [
    "## chain \n",
    "chain=prompt|llm\n",
    "\n",
    "response=chain.invoke({\"input\":\"tell me about SAP Hana?\"})\n",
    "print(response, sep='/n')"
   ]
  },
  {
   "cell_type": "code",
   "execution_count": 8,
   "metadata": {},
   "outputs": [
    {
     "name": "stdout",
     "output_type": "stream",
     "text": [
      "content=\"SAP HANA is a high-performance, in-memory relational database management system (RDBMS) developed by SAP SE. It's designed to handle large volumes of data and provide fast query performance, making it an ideal choice for business intelligence, analytics, and real-time applications.\\n\\nHere are some key features and benefits of SAP HANA:\\n\\n**Key Features:**\\n\\n1. **In-Memory Technology**: SAP HANA stores data in RAM (Random Access Memory), which provides faster access times compared to traditional disk-based storage.\\n2. **Column-Based Storage**: Data is stored in a column-based format, allowing for efficient querying and aggregation operations.\\n3. **ACID Compliance**: SAP HANA supports Atomicity, Consistency, Isolation, and Durability (ACID) properties, ensuring data integrity and consistency.\\n4. **High-Performance Query Engine**: The query engine uses advanced algorithms to optimize queries and provide fast results.\\n5. **Integrated Data Processing**: SAP HANA can process large volumes of data in real-time, making it suitable for applications like business intelligence, analytics, and IoT.\\n\\n**Benefits:**\\n\\n1. **Faster Performance**: SAP HANA's in-memory technology provides faster query performance compared to traditional disk-based storage systems.\\n2. **Improved Scalability**: The system can handle large volumes of data and scale horizontally (add more nodes) or vertically (increase node capacity).\\n3. **Reduced Latency**: Real-time processing capabilities enable fast decision-making, reducing latency and improving business outcomes.\\n4. **Integrated Analytics**: SAP HANA provides a unified platform for analytics, reporting, and business intelligence, making it easier to gain insights from data.\\n5. **Cost-Effective**: By reducing the need for disk storage and minimizing the use of external databases, SAP HANA can help organizations save costs.\\n\\n**Use Cases:**\\n\\n1. **Business Intelligence**: SAP HANA is ideal for business intelligence applications, such as reporting, analytics, and data visualization.\\n2. **Real-Time Analytics**: The system's high-performance capabilities make it suitable for real-time analytics, IoT, and other applications that require fast processing of large volumes of data.\\n3. **Predictive Maintenance**: SAP HANA can be used to analyze sensor data from machines and predict maintenance needs, reducing downtime and improving overall equipment effectiveness (OEE).\\n4. **Supply Chain Optimization**: The system's advanced analytics capabilities enable organizations to optimize supply chain operations, improve forecasting, and reduce inventory costs.\\n\\n**System Requirements:**\\n\\n1. **Hardware**: SAP HANA requires a server with sufficient RAM (at least 64 GB) and storage capacity.\\n2. **Operating System**: The system supports various operating systems, including Windows, Linux, and Solaris.\\n3. **Database Management**: SAP HANA uses its own database management system, which is designed to work seamlessly with the in-memory technology.\\n\\nOverall, SAP HANA is a powerful platform for handling large volumes of data and providing fast query performance. Its integrated analytics capabilities make it an ideal choice for business intelligence, real-time analytics, and other applications that require fast processing of data.\" response_metadata={'model': 'llama3.1', 'created_at': '2024-08-24T15:30:24.9792428Z', 'message': {'role': 'assistant', 'content': ''}, 'done_reason': 'stop', 'done': True, 'total_duration': 316690791600, 'load_duration': 8480324300, 'prompt_eval_count': 36, 'prompt_eval_duration': 8125857000, 'eval_count': 627, 'eval_duration': 300077833000} id='run-90380038-6553-411b-b26b-a331e77b6952-0' usage_metadata={'input_tokens': 36, 'output_tokens': 627, 'total_tokens': 663}\n"
     ]
    }
   ],
   "source": [
    "print(response, sep='/n')"
   ]
  },
  {
   "cell_type": "code",
   "execution_count": 9,
   "metadata": {},
   "outputs": [
    {
     "data": {
      "text/plain": [
       "langchain_core.messages.ai.AIMessage"
      ]
     },
     "execution_count": 9,
     "metadata": {},
     "output_type": "execute_result"
    }
   ],
   "source": [
    "type(response)"
   ]
  },
  {
   "cell_type": "code",
   "execution_count": 12,
   "metadata": {},
   "outputs": [
    {
     "name": "stdout",
     "output_type": "stream",
     "text": [
      "Certainly! As of my knowledge cutoff date in October 2023, \"Langsmith\" does not directly correlate to any widely recognized technology, framework, or concept in the field of AI or software engineering. It's possible that it might be a term used within a specific company, a proprietary tool, or a recent development that hasn't gained widespread recognition.\n",
      "\n",
      "However, if \"Langsmith\" is a term related to a specific context or a new product or service that emerged after my last update, I wouldn't have information on it. If you could provide more context or details, I'd be happy to help you understand the concept or direct you to the right resources!\n"
     ]
    }
   ],
   "source": [
    "## stroutput Parser\n",
    "\n",
    "from langchain_core.output_parsers import StrOutputParser\n",
    "output_parser=StrOutputParser()\n",
    "chain=prompt|llm|output_parser\n",
    "\n",
    "response=chain.invoke({\"input\":\"Can you tell me about Langsmith?\"})\n",
    "print(response)"
   ]
  },
  {
   "cell_type": "code",
   "execution_count": null,
   "metadata": {},
   "outputs": [],
   "source": []
  },
  {
   "cell_type": "code",
   "execution_count": null,
   "metadata": {},
   "outputs": [],
   "source": []
  },
  {
   "cell_type": "code",
   "execution_count": null,
   "metadata": {},
   "outputs": [],
   "source": []
  },
  {
   "cell_type": "code",
   "execution_count": null,
   "metadata": {},
   "outputs": [],
   "source": []
  },
  {
   "cell_type": "code",
   "execution_count": null,
   "metadata": {},
   "outputs": [],
   "source": []
  },
  {
   "cell_type": "code",
   "execution_count": null,
   "metadata": {},
   "outputs": [],
   "source": []
  },
  {
   "cell_type": "code",
   "execution_count": null,
   "metadata": {},
   "outputs": [],
   "source": []
  },
  {
   "cell_type": "code",
   "execution_count": null,
   "metadata": {},
   "outputs": [],
   "source": []
  },
  {
   "cell_type": "code",
   "execution_count": null,
   "metadata": {},
   "outputs": [],
   "source": []
  }
 ],
 "metadata": {
  "kernelspec": {
   "display_name": "Python 3",
   "language": "python",
   "name": "python3"
  },
  "language_info": {
   "codemirror_mode": {
    "name": "ipython",
    "version": 3
   },
   "file_extension": ".py",
   "mimetype": "text/x-python",
   "name": "python",
   "nbconvert_exporter": "python",
   "pygments_lexer": "ipython3",
   "version": "3.10.14"
  }
 },
 "nbformat": 4,
 "nbformat_minor": 2
}
